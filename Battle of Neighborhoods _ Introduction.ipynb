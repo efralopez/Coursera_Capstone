{
 "cells": [
  {
   "cell_type": "markdown",
   "metadata": {
    "collapsed": true
   },
   "source": [
    "<H1>Battle of the Neighborhoods | Introduction</H1>"
   ]
  },
  {
   "cell_type": "markdown",
   "metadata": {},
   "source": [
    "<H2>The Business Problem</H2>"
   ]
  },
  {
   "cell_type": "markdown",
   "metadata": {},
   "source": [
    "My client owns several vegan restaurants in New York City. She has been told about the huge opportunities that the Toronto's Market poses, so she's seriously considering the idea of opening one of her restaurants there but, where?\n",
    "\n",
    "The brief: find the best spot to open her new restaurant in Toronto, CA."
   ]
  },
  {
   "cell_type": "markdown",
   "metadata": {},
   "source": [
    "<H2>The approach</H2>"
   ]
  },
  {
   "cell_type": "markdown",
   "metadata": {},
   "source": [
    "1) Analize how similar the NYC and Toronto restaurant scene really is.\n",
    "\n",
    "2) Cluster the Neighborhoods in Toronto.\n",
    "\n",
    "3) Analyze the restaurants offer. Find the cluster with most check ins and higgest ratings for Vegetarian/Vegan restaurants.\n",
    "\n",
    "4) Within that cluster,  find the neighborhood with least ammount of competition from Vegatarian/Vegan restaurants."
   ]
  },
  {
   "cell_type": "code",
   "execution_count": null,
   "metadata": {},
   "outputs": [],
   "source": []
  }
 ],
 "metadata": {
  "kernelspec": {
   "display_name": "Python 3.6",
   "language": "python",
   "name": "python3"
  },
  "language_info": {
   "codemirror_mode": {
    "name": "ipython",
    "version": 3
   },
   "file_extension": ".py",
   "mimetype": "text/x-python",
   "name": "python",
   "nbconvert_exporter": "python",
   "pygments_lexer": "ipython3",
   "version": "3.6.8"
  }
 },
 "nbformat": 4,
 "nbformat_minor": 1
}
