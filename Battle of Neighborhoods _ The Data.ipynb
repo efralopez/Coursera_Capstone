{
 "cells": [
  {
   "cell_type": "markdown",
   "metadata": {
    "collapsed": true
   },
   "source": [
    "<H1>Battle of the Neighborhoods | The Data</H1>"
   ]
  },
  {
   "cell_type": "markdown",
   "metadata": {},
   "source": [
    "<H2>Describing the Data</H2>"
   ]
  },
  {
   "cell_type": "markdown",
   "metadata": {},
   "source": [
    "To find out the similarities between the restaurant market and geo distribution, I'll be using both previously analyzed data sets (NY and Toronto neighborhoods).\n",
    "\n",
    "For further reference, the data sets are these:\n",
    "\n",
    "1) NY neighborhood list with geo data: https://cocl.us/new_york_dataset\n",
    "\n",
    "2) Toronto neighborhood list: https://en.wikipedia.org/wiki/List_of_postal_codes_of_Canada:_M\n",
    "\n",
    "3) Toronto neighborhood geo data: https://cocl.us/Geospatial_data/Geospatial_Coordinates.csv\n"
   ]
  },
  {
   "cell_type": "markdown",
   "metadata": {},
   "source": [
    "<H2>Foursquare's data</H2>"
   ]
  },
  {
   "cell_type": "markdown",
   "metadata": {},
   "source": [
    "In order to get more insight on the restaurant scene in both cities, I'll need Foursquare's data. For my analysis, I'll only need the Explore endpoint (https://developer.foursquare.com/docs/api/venues/explore). This will give me the name of the venue, the location and the category.\n",
    "\n",
    "Besides, I'll need one extra dimension to understand how popular a venue actually is:\n",
    "\n",
    "1) Stats/Check Ins (https://developer.foursquare.com/docs/api/venues/stats)"
   ]
  },
  {
   "cell_type": "code",
   "execution_count": null,
   "metadata": {},
   "outputs": [],
   "source": []
  }
 ],
 "metadata": {
  "kernelspec": {
   "display_name": "Python 3.6",
   "language": "python",
   "name": "python3"
  },
  "language_info": {
   "codemirror_mode": {
    "name": "ipython",
    "version": 3
   },
   "file_extension": ".py",
   "mimetype": "text/x-python",
   "name": "python",
   "nbconvert_exporter": "python",
   "pygments_lexer": "ipython3",
   "version": "3.6.8"
  }
 },
 "nbformat": 4,
 "nbformat_minor": 1
}
